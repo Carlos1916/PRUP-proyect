{
 "cells": [
  {
   "cell_type": "code",
   "execution_count": 16,
   "metadata": {},
   "outputs": [
    {
     "name": "stdout",
     "output_type": "stream",
     "text": [
      "[nltk_data] Downloading package punkt to\n",
      "[nltk_data]     C:\\Users\\JCharles\\AppData\\Roaming\\nltk_data...\n",
      "[nltk_data]   Package punkt is already up-to-date!\n",
      "[nltk_data] Downloading package averaged_perceptron_tagger to\n",
      "[nltk_data]     C:\\Users\\JCharles\\AppData\\Roaming\\nltk_data...\n",
      "[nltk_data]   Package averaged_perceptron_tagger is already up-to-\n",
      "[nltk_data]       date!\n"
     ]
    }
   ],
   "source": [
    "from textblob import TextBlob\n",
    "import nltk\n",
    "nltk.download('punkt')\n",
    "nltk.download('averaged_perceptron_tagger')\n",
    "import tweepy\n",
    "import pandas as pd\n",
    "import numpy as np\n",
    "import seaborn as sns"
   ]
  },
  {
   "cell_type": "code",
   "execution_count": 17,
   "metadata": {
    "collapsed": true
   },
   "outputs": [],
   "source": [
    "#En esta parte solo se utilizan las llaves de la API para accceder a los datos de Twitter.\n",
    "\n",
    "consumer_key = \"3jrzOdnUpv9A6I9zdObjpSafU\"\n",
    "\n",
    "consumer_secret = \"d0c4HhVMruXgjRGLbdS1mjsepjs9PWCygXYycnFA3Olu1PVIH2\" \n",
    "\n",
    "access_token = \"73235731-JOFtWxEt6r5ecrOw0xQIJ6BNgl7FX2OiupGybuHfq\"\n",
    "\n",
    "access_token_secret = \"7H8EVyhQB1zpKut71HbQn2BYshDQTuNjaOnS083o6CKQ0\"\n",
    "\n",
    "auth = tweepy.OAuthHandler(consumer_key, consumer_secret)\n",
    "auth.set_access_token(access_token, access_token_secret)\n",
    "\n",
    "api = tweepy.API(auth)\n"
   ]
  },
  {
   "cell_type": "code",
   "execution_count": 18,
   "metadata": {},
   "outputs": [
    {
     "data": {
      "text/html": [
       "<div>\n",
       "<style>\n",
       "    .dataframe thead tr:only-child th {\n",
       "        text-align: right;\n",
       "    }\n",
       "\n",
       "    .dataframe thead th {\n",
       "        text-align: left;\n",
       "    }\n",
       "\n",
       "    .dataframe tbody tr th {\n",
       "        vertical-align: top;\n",
       "    }\n",
       "</style>\n",
       "<table border=\"1\" class=\"dataframe\">\n",
       "  <thead>\n",
       "    <tr style=\"text-align: right;\">\n",
       "      <th></th>\n",
       "      <th>Account</th>\n",
       "    </tr>\n",
       "  </thead>\n",
       "  <tbody>\n",
       "    <tr>\n",
       "      <th>0</th>\n",
       "      <td>realDonaldTrump</td>\n",
       "    </tr>\n",
       "    <tr>\n",
       "      <th>1</th>\n",
       "      <td>haaretzcom</td>\n",
       "    </tr>\n",
       "    <tr>\n",
       "      <th>2</th>\n",
       "      <td>FT</td>\n",
       "    </tr>\n",
       "    <tr>\n",
       "      <th>3</th>\n",
       "      <td>ONU_es</td>\n",
       "    </tr>\n",
       "    <tr>\n",
       "      <th>4</th>\n",
       "      <td>CNBC</td>\n",
       "    </tr>\n",
       "  </tbody>\n",
       "</table>\n",
       "</div>"
      ],
      "text/plain": [
       "           Account\n",
       "0  realDonaldTrump\n",
       "1       haaretzcom\n",
       "2               FT\n",
       "3           ONU_es\n",
       "4             CNBC"
      ]
     },
     "execution_count": 18,
     "metadata": {},
     "output_type": "execute_result"
    }
   ],
   "source": [
    "#crear dataframe de cuentas de twitter\n",
    "\n",
    "accounts = pd.read_csv(\"accounts.csv\")\n",
    "accounts.head()"
   ]
  },
  {
   "cell_type": "code",
   "execution_count": 24,
   "metadata": {},
   "outputs": [
    {
     "data": {
      "text/html": [
       "<div>\n",
       "<style>\n",
       "    .dataframe thead tr:only-child th {\n",
       "        text-align: right;\n",
       "    }\n",
       "\n",
       "    .dataframe thead th {\n",
       "        text-align: left;\n",
       "    }\n",
       "\n",
       "    .dataframe tbody tr th {\n",
       "        vertical-align: top;\n",
       "    }\n",
       "</style>\n",
       "<table border=\"1\" class=\"dataframe\">\n",
       "  <thead>\n",
       "    <tr style=\"text-align: right;\">\n",
       "      <th></th>\n",
       "      <th>action</th>\n",
       "    </tr>\n",
       "  </thead>\n",
       "  <tbody>\n",
       "    <tr>\n",
       "      <th>0</th>\n",
       "      <td>$FB</td>\n",
       "    </tr>\n",
       "    <tr>\n",
       "      <th>1</th>\n",
       "      <td>$AMZN</td>\n",
       "    </tr>\n",
       "    <tr>\n",
       "      <th>2</th>\n",
       "      <td>$NFLX</td>\n",
       "    </tr>\n",
       "    <tr>\n",
       "      <th>3</th>\n",
       "      <td>$GOOGL</td>\n",
       "    </tr>\n",
       "    <tr>\n",
       "      <th>4</th>\n",
       "      <td>$AAPL</td>\n",
       "    </tr>\n",
       "  </tbody>\n",
       "</table>\n",
       "</div>"
      ],
      "text/plain": [
       "   action\n",
       "0     $FB\n",
       "1   $AMZN\n",
       "2   $NFLX\n",
       "3  $GOOGL\n",
       "4   $AAPL"
      ]
     },
     "execution_count": 24,
     "metadata": {},
     "output_type": "execute_result"
    }
   ],
   "source": [
    "#Dataframe de acciones\n",
    "actions = pd.read_csv(\"actions.csv\")\n",
    "actions.head()"
   ]
  },
  {
   "cell_type": "code",
   "execution_count": null,
   "metadata": {
    "collapsed": true
   },
   "outputs": [],
   "source": [
    "#crear data frame\n",
    "tweets = api.user_timeline(screen_name=\"taikikawa\", count=200)\n",
    "    \n",
    "def tweets_to_data_frame(tweets):\n",
    "        df = pd.DataFrame(data=[tweet.text for tweet in tweets], columns=['tweets'])\n",
    "        df['user']= np.array(tweet.screen_name for tweet in tweets)\n",
    "        df['id'] = np.array([tweet.id for tweet in tweets])\n",
    "        df['len'] = np.array([len(tweet.text) for tweet in tweets])\n",
    "        df['date'] = np.array([tweet.created_at for tweet in tweets])\n",
    "        df['source'] = np.array([tweet.source for tweet in tweets])\n",
    "        df['likes'] = np.array([tweet.favorite_count for tweet in tweets])\n",
    "        df['retweets'] = np.array([tweet.retweet_count for tweet in tweets])\n",
    "\n",
    "        return df\n",
    "    \n",
    "tweets_to_data_frame(tweets)    "
   ]
  },
  {
   "cell_type": "code",
   "execution_count": 25,
   "metadata": {
    "scrolled": true
   },
   "outputs": [
    {
     "name": "stdout",
     "output_type": "stream",
     "text": [
      "Join Binance for Bonus on trading crypto !\n",
      "\n",
      "Click here: https://t.co/ggzQI2hlqr   \n",
      "\n",
      "$NXC $LEND $BITB $XDN $BTCD… https://t.co/frzBPzgwY6\n",
      "Sentiment(polarity=0.0, subjectivity=0.0)\n",
      "\n",
      "Buy/Sell Bitcoin changes with up to 100x Leverage at Bitmex! 💘😱\n",
      "\n",
      "Get a 10% Fee Discount:\n",
      "\n",
      "Click here:… https://t.co/yhExbjrOgY\n",
      "Sentiment(polarity=0.0, subjectivity=0.0)\n",
      "\n",
      "BitMEX lets you leverage trade the top crypto coins !\n",
      "\n",
      "Click here: https://t.co/qixymNRS7n   \n",
      "\n",
      "$XRP $XLM $EOS $BCH… https://t.co/7UgGRdagJZ\n",
      "Sentiment(polarity=0.625, subjectivity=0.5)\n",
      "\n",
      "Join Binance for Bonus on trading crypto !\n",
      "\n",
      "Click here: https://t.co/actknETvMV   \n",
      "\n",
      "$NXC $LEND $BITB $XDN $BTCD… https://t.co/tGYLoaoPEx\n",
      "Sentiment(polarity=0.0, subjectivity=0.0)\n",
      "\n",
      "BitMEX lets you leverage trade the top crypto coins !\n",
      "\n",
      "Click here: https://t.co/HyF12ciuc7   \n",
      "\n",
      "$XRP $XLM $EOS $BCH… https://t.co/tG1MV3J8SS\n",
      "Sentiment(polarity=0.625, subjectivity=0.5)\n",
      "\n",
      "Binance gives free money through airdrops !\n",
      "\n",
      "Click here: https://t.co/x5DABHRqqY    \n",
      "\n",
      "$BTC $ETH $XRP $LTC $OMG $NEO… https://t.co/pesTWrXMpY\n",
      "Sentiment(polarity=0.5, subjectivity=0.8)\n",
      "\n",
      "Huge coin selection, low fees, and very reliable! Join Binance! 🙌 😍  \n",
      "\n",
      "Click here: https://t.co/wc2jMONPoS   \n",
      "\n",
      "$BTC… https://t.co/V1SiGvPOjQ\n",
      "Sentiment(polarity=0.23750000000000004, subjectivity=0.5)\n",
      "\n",
      "BitMEX lets you leverage trade the top crypto coins !\n",
      "\n",
      "Click here: https://t.co/EcbasOFWyc   \n",
      "\n",
      "$XRP $XLM $EOS $BCH… https://t.co/Q5ax3z1StH\n",
      "Sentiment(polarity=0.625, subjectivity=0.5)\n",
      "\n",
      "BitMEX lets you leverage trade the top crypto coins !\n",
      "\n",
      "Click here: https://t.co/ReVdUebWkA   \n",
      "\n",
      "$XRP $XLM $EOS $BCH… https://t.co/0hD6fqzBdb\n",
      "Sentiment(polarity=0.625, subjectivity=0.5)\n",
      "\n",
      "Huge coin selection, low fees, and very reliable! Join Binance! 🙌 😍  \n",
      "\n",
      "Click here: https://t.co/z0276npCF9   \n",
      "\n",
      "$BTC… https://t.co/GxizyP6PYA\n",
      "Sentiment(polarity=0.23750000000000004, subjectivity=0.5)\n",
      "\n",
      "Buy/Sell Bitcoin changes with up to 100x Leverage at Bitmex! 🤒💞\n",
      "\n",
      "Get a 10% Fee Discount:\n",
      "\n",
      "Click here:… https://t.co/QCfCt95pKE\n",
      "Sentiment(polarity=0.0, subjectivity=0.0)\n",
      "\n",
      "RT @Funds_Safu: 1/10  Recently an unknown person came into the $XRP community during the SWELL event by Ripple. At the time he made unprove…\n",
      "Sentiment(polarity=-0.1, subjectivity=0.6)\n",
      "\n",
      "BitMEX lets you leverage trade the top crypto coins !\n",
      "\n",
      "Click here: https://t.co/t8MxUOSQfQ   \n",
      "\n",
      "$XRP $XLM $EOS $BCH… https://t.co/pps8XDvWZa\n",
      "Sentiment(polarity=0.625, subjectivity=0.5)\n",
      "\n",
      "Hope you are buying $XRP now. Big move soon. #XRP #xrpthestandard.\n",
      "Sentiment(polarity=0.0, subjectivity=0.1)\n",
      "\n",
      "RT @crypto_pulse: 🤑 WIN 200 Ripple Coins 🚀 \n",
      "\n",
      "$XRP #Ripple #GIVEAWAY - The winner will receive 200 $XRP\n",
      "\n",
      "To Enter the FREE Giveaway, do the…\n",
      "Sentiment(polarity=0.6000000000000001, subjectivity=0.6000000000000001)\n",
      "\n"
     ]
    }
   ],
   "source": [
    "#imprimir tweets\n",
    "\n",
    "public_tweets = api.search('$AAPL')     #Elige el tema a imprimir\n",
    "\n",
    "for tweet in public_tweets:\n",
    "    print(tweet.text)          #Imprime los tweets\n",
    "    analysis = TextBlob(tweet.text) \n",
    "    print(analysis.sentiment) #imprime el analisis de sentimiento\n",
    "    print(\"\")\n",
    "    \n"
   ]
  }
 ],
 "metadata": {
  "anaconda-cloud": {},
  "kernelspec": {
   "display_name": "Python [Anaconda3]",
   "language": "python",
   "name": "Python [Anaconda3]"
  },
  "language_info": {
   "codemirror_mode": {
    "name": "ipython",
    "version": 3
   },
   "file_extension": ".py",
   "mimetype": "text/x-python",
   "name": "python",
   "nbconvert_exporter": "python",
   "pygments_lexer": "ipython3",
   "version": "3.5.4"
  }
 },
 "nbformat": 4,
 "nbformat_minor": 2
}
