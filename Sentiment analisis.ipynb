{
 "cells": [
  {
   "cell_type": "code",
   "execution_count": 25,
   "metadata": {},
   "outputs": [
    {
     "name": "stdout",
     "output_type": "stream",
     "text": [
      "[nltk_data] Downloading package punkt to\n",
      "[nltk_data]     C:\\Users\\JCharles\\AppData\\Roaming\\nltk_data...\n",
      "[nltk_data]   Package punkt is already up-to-date!\n",
      "[nltk_data] Downloading package averaged_perceptron_tagger to\n",
      "[nltk_data]     C:\\Users\\JCharles\\AppData\\Roaming\\nltk_data...\n",
      "[nltk_data]   Package averaged_perceptron_tagger is already up-to-\n",
      "[nltk_data]       date!\n"
     ]
    }
   ],
   "source": [
    "from textblob import TextBlob #libreria que hace el análisis\n",
    "import nltk #libreria que trabaja el procesamiento de lenguaje natural\n",
    "nltk.download('punkt')   # esta parte no sé por qué es requerida, \n",
    "nltk.download('averaged_perceptron_tagger')   #esta tampoco, pero si no se llaman a ambas, no jala... jaja\n",
    "import tweepy# librería que trabaja con la API para obtener datos de tweeter\n",
    "import pandas as pd  #Pandas para hacer dataframes(tablas de datos)\n",
    "import numpy as np   #numpy para operaciones básicas\n",
    "import seaborn as sns   #Graficas\n",
    "import matplotlib.pyplot as plt  #más gráficas"
   ]
  },
  {
   "cell_type": "code",
   "execution_count": 2,
   "metadata": {
    "collapsed": true
   },
   "outputs": [],
   "source": [
    "#En esta parte solo se utilizan las llaves de la API para accceder a los datos de Twitter.\n",
    "\n",
    "consumer_key = \"3jrzOdnUpv9A6I9zdObjpSafU\"\n",
    "\n",
    "consumer_secret = \"d0c4HhVMruXgjRGLbdS1mjsepjs9PWCygXYycnFA3Olu1PVIH2\" \n",
    "\n",
    "access_token = \"73235731-JOFtWxEt6r5ecrOw0xQIJ6BNgl7FX2OiupGybuHfq\"\n",
    "\n",
    "access_token_secret = \"7H8EVyhQB1zpKut71HbQn2BYshDQTuNjaOnS083o6CKQ0\"\n",
    "\n",
    "auth = tweepy.OAuthHandler(consumer_key, consumer_secret)\n",
    "auth.set_access_token(access_token, access_token_secret)\n",
    "\n",
    "api = tweepy.API(auth)\n"
   ]
  },
  {
   "cell_type": "code",
   "execution_count": 6,
   "metadata": {},
   "outputs": [
    {
     "data": {
      "text/html": [
       "<div>\n",
       "<style>\n",
       "    .dataframe thead tr:only-child th {\n",
       "        text-align: right;\n",
       "    }\n",
       "\n",
       "    .dataframe thead th {\n",
       "        text-align: left;\n",
       "    }\n",
       "\n",
       "    .dataframe tbody tr th {\n",
       "        vertical-align: top;\n",
       "    }\n",
       "</style>\n",
       "<table border=\"1\" class=\"dataframe\">\n",
       "  <thead>\n",
       "    <tr style=\"text-align: right;\">\n",
       "      <th></th>\n",
       "      <th>Account</th>\n",
       "    </tr>\n",
       "  </thead>\n",
       "  <tbody>\n",
       "    <tr>\n",
       "      <th>0</th>\n",
       "      <td>realDonaldTrump</td>\n",
       "    </tr>\n",
       "    <tr>\n",
       "      <th>1</th>\n",
       "      <td>haaretzcom</td>\n",
       "    </tr>\n",
       "    <tr>\n",
       "      <th>2</th>\n",
       "      <td>FT</td>\n",
       "    </tr>\n",
       "    <tr>\n",
       "      <th>3</th>\n",
       "      <td>ONU_es</td>\n",
       "    </tr>\n",
       "    <tr>\n",
       "      <th>4</th>\n",
       "      <td>CNBC</td>\n",
       "    </tr>\n",
       "    <tr>\n",
       "      <th>5</th>\n",
       "      <td>nytimes</td>\n",
       "    </tr>\n",
       "    <tr>\n",
       "      <th>6</th>\n",
       "      <td>washingtonpost</td>\n",
       "    </tr>\n",
       "    <tr>\n",
       "      <th>7</th>\n",
       "      <td>business</td>\n",
       "    </tr>\n",
       "    <tr>\n",
       "      <th>8</th>\n",
       "      <td>Tesla</td>\n",
       "    </tr>\n",
       "    <tr>\n",
       "      <th>9</th>\n",
       "      <td>JPMAM_UKAdviser</td>\n",
       "    </tr>\n",
       "    <tr>\n",
       "      <th>10</th>\n",
       "      <td>blackrock</td>\n",
       "    </tr>\n",
       "    <tr>\n",
       "      <th>11</th>\n",
       "      <td>BlackRockMX</td>\n",
       "    </tr>\n",
       "    <tr>\n",
       "      <th>12</th>\n",
       "      <td>MoodysLatAm</td>\n",
       "    </tr>\n",
       "    <tr>\n",
       "      <th>13</th>\n",
       "      <td>MoodysInvSvc</td>\n",
       "    </tr>\n",
       "  </tbody>\n",
       "</table>\n",
       "</div>"
      ],
      "text/plain": [
       "            Account\n",
       "0   realDonaldTrump\n",
       "1        haaretzcom\n",
       "2                FT\n",
       "3            ONU_es\n",
       "4              CNBC\n",
       "5           nytimes\n",
       "6    washingtonpost\n",
       "7          business\n",
       "8             Tesla\n",
       "9   JPMAM_UKAdviser\n",
       "10        blackrock\n",
       "11      BlackRockMX\n",
       "12      MoodysLatAm\n",
       "13     MoodysInvSvc"
      ]
     },
     "execution_count": 6,
     "metadata": {},
     "output_type": "execute_result"
    }
   ],
   "source": [
    "#crear dataframe de cuentas de twitter\n",
    "\n",
    "accounts = pd.read_csv(\"accounts.csv\")\n",
    "accounts"
   ]
  },
  {
   "cell_type": "code",
   "execution_count": 4,
   "metadata": {},
   "outputs": [
    {
     "data": {
      "text/html": [
       "<div>\n",
       "<style>\n",
       "    .dataframe thead tr:only-child th {\n",
       "        text-align: right;\n",
       "    }\n",
       "\n",
       "    .dataframe thead th {\n",
       "        text-align: left;\n",
       "    }\n",
       "\n",
       "    .dataframe tbody tr th {\n",
       "        vertical-align: top;\n",
       "    }\n",
       "</style>\n",
       "<table border=\"1\" class=\"dataframe\">\n",
       "  <thead>\n",
       "    <tr style=\"text-align: right;\">\n",
       "      <th></th>\n",
       "      <th>action</th>\n",
       "    </tr>\n",
       "  </thead>\n",
       "  <tbody>\n",
       "    <tr>\n",
       "      <th>0</th>\n",
       "      <td>$FB</td>\n",
       "    </tr>\n",
       "    <tr>\n",
       "      <th>1</th>\n",
       "      <td>$AMZN</td>\n",
       "    </tr>\n",
       "    <tr>\n",
       "      <th>2</th>\n",
       "      <td>$NFLX</td>\n",
       "    </tr>\n",
       "    <tr>\n",
       "      <th>3</th>\n",
       "      <td>$GOOGL</td>\n",
       "    </tr>\n",
       "    <tr>\n",
       "      <th>4</th>\n",
       "      <td>$AAPL</td>\n",
       "    </tr>\n",
       "  </tbody>\n",
       "</table>\n",
       "</div>"
      ],
      "text/plain": [
       "   action\n",
       "0     $FB\n",
       "1   $AMZN\n",
       "2   $NFLX\n",
       "3  $GOOGL\n",
       "4   $AAPL"
      ]
     },
     "execution_count": 4,
     "metadata": {},
     "output_type": "execute_result"
    }
   ],
   "source": [
    "#Dataframe de acciones\n",
    "stocks = pd.read_csv(\"actions.csv\")\n",
    "stocks.head()"
   ]
  },
  {
   "cell_type": "code",
   "execution_count": 9,
   "metadata": {
    "collapsed": true
   },
   "outputs": [],
   "source": [
    "#función que hace el análisis de sentimiento de tweet,(Falta crear filtro que omita links y basura no textual, que no nos sirve para el análisis)\n",
    "def analysis(tweet):\n",
    "    analysis = TextBlob(tweet) \n",
    "    return analysis.sentiment.polarity #Falta documentar cómo funciona esta parte, pero básicamente utiliza una base de datos de adjetivos\n",
    "                                        # en XMl que tiene una calificación de sentimiento ya sea negativo o positivo,\n",
    "                                        # de cada frase saca un promedio de esos adjetivos\n",
    "                                        #https://github.com/sloria/TextBlob/blob/dev/textblob/en/en-sentiment.xml"
   ]
  },
  {
   "cell_type": "code",
   "execution_count": 15,
   "metadata": {
    "collapsed": true
   },
   "outputs": [],
   "source": [
    "#crear data frame, que contiene los datos de usuario(tweet, identificación del tweet, longitud del tweet, fecha, likes, retweets y análisis de sentimiento)\n",
    "tweets = api.user_timeline(screen_name=\"realDonaldTrump\", count=100)\n",
    "    \n",
    "def tweets_to_data_frame(tweets):\n",
    "        df = pd.DataFrame(data=[tweet.text for tweet in tweets], columns=['tweets'])\n",
    "        df['user']= np.array(screen_name for tweet in tweets)\n",
    "        df['id'] = np.array([tweet.id for tweet in tweets])\n",
    "        df['len'] = np.array([len(tweet.text) for tweet in tweets])\n",
    "        df['date'] = np.array([tweet.created_at for tweet in tweets])\n",
    "        df['likes'] = np.array([tweet.favorite_count for tweet in tweets])\n",
    "        df['retweets'] = np.array([tweet.retweet_count for tweet in tweets])\n",
    "        df['sentiment'] = np.array([round(analysis(tweet.text),2) for tweet in tweets]) \n",
    "\n",
    "        return df\n",
    "    \n",
    "df= tweets_to_data_frame(tweets)    \n",
    "\n",
    "\n",
    "\n",
    "df"
   ]
  },
  {
   "cell_type": "code",
   "execution_count": null,
   "metadata": {
    "collapsed": true
   },
   "outputs": [],
   "source": [
    "#esta parte convierte el dataframe a un archivo JSON\n",
    "\n",
    "df.to_json(\"tweets.json\")"
   ]
  },
  {
   "cell_type": "code",
   "execution_count": 4,
   "metadata": {
    "scrolled": true
   },
   "outputs": [
    {
     "name": "stdout",
     "output_type": "stream",
     "text": [
      "RT @charliebilello: % Below 52-week High...\n",
      "$FB: -40%\n",
      "$AAPL: -20%\n",
      "$AMZN: -26%\n",
      "$NFLX: -36%\n",
      "$NVDA: -49%\n",
      "$GOOGL: -20%\n",
      "Sentiment(polarity=0.16, subjectivity=0.5399999999999999)\n",
      "\n",
      "$AAPL if $AAPL retraces to 195, 197.5 or 200 area its a gift. It will be 1999 all over again. Or maybe it just keep… https://t.co/aAXPwfjeIn\n",
      "Sentiment(polarity=0.0, subjectivity=0.0)\n",
      "\n",
      "RT @charliebilello: % Below 52-week High...\n",
      "$FB: -40%\n",
      "$AAPL: -20%\n",
      "$AMZN: -26%\n",
      "$NFLX: -36%\n",
      "$NVDA: -49%\n",
      "$GOOGL: -20%\n",
      "Sentiment(polarity=0.16, subjectivity=0.5399999999999999)\n",
      "\n",
      "ياكثر الاسئله عن $AAPL \n",
      "\n",
      "رغم انه سهم غثيث .. \n",
      "\n",
      "لكن : سعره اليوم 185$ \n",
      "\n",
      "بكرة ممكن عنده ارتداد مع السوق بشكل اجمالي… https://t.co/wO9fVw7MA6\n",
      "Sentiment(polarity=0.0, subjectivity=0.0)\n",
      "\n",
      "RT @financialbuzz: Watch Us Report LIVE from the Floor of the NYSE! This weeks weekly wrap-up includes $RHT $IBM $UA $AAPL $FIT $FB $S $GE…\n",
      "Sentiment(polarity=0.2852272727272727, subjectivity=0.45)\n",
      "\n",
      "RT @charliebilello: % Below 52-week High...\n",
      "$FB: -40%\n",
      "$AAPL: -20%\n",
      "$AMZN: -26%\n",
      "$NFLX: -36%\n",
      "$NVDA: -49%\n",
      "$GOOGL: -20%\n",
      "Sentiment(polarity=0.16, subjectivity=0.5399999999999999)\n",
      "\n",
      "Netflix’s ‘death cross’ (50 moving average under, 200 moving average) is the third for FAANG stocks and Nasdaq Comp… https://t.co/KKo5dr2Vjz\n",
      "Sentiment(polarity=-0.075, subjectivity=0.19999999999999998)\n",
      "\n",
      "RT @financialbuzz: Watch Us Report LIVE from the Floor of the NYSE! This weeks weekly wrap-up includes $NVDA $AAPL $TSN $HD $GE $TLRY $CRON…\n",
      "Sentiment(polarity=0.17045454545454544, subjectivity=0.5)\n",
      "\n",
      "RT @financialbuzz: Watch Us Report LIVE from the Floor of the NYSE! This weeks weekly wrap-up includes $RHT $IBM $UA $AAPL $FIT $FB $S $GE…\n",
      "Sentiment(polarity=0.2852272727272727, subjectivity=0.45)\n",
      "\n",
      "RT @financialbuzz: Watch Us Report LIVE from the Floor of the NYSE! This weeks weekly wrap-up includes $RHT $IBM $UA $AAPL $FIT $FB $S $GE…\n",
      "Sentiment(polarity=0.2852272727272727, subjectivity=0.45)\n",
      "\n",
      "RT @financialbuzz: Watch Us Report LIVE from the Floor of the NYSE! This weeks weekly wrap-up includes $RHT $IBM $UA $AAPL $FIT $FB $S $GE…\n",
      "Sentiment(polarity=0.2852272727272727, subjectivity=0.45)\n",
      "\n",
      "RT @financialbuzz: Watch Us Report LIVE from the Floor of the NYSE! This weeks weekly wrap-up includes $RHT $IBM $UA $AAPL $FIT $FB $S $GE…\n",
      "Sentiment(polarity=0.2852272727272727, subjectivity=0.45)\n",
      "\n",
      "RT @financialbuzz: Watch Us Report LIVE from the Floor of the NYSE! This weeks weekly wrap-up includes $NVDA $AAPL $TSN $HD $GE $TLRY $CRON…\n",
      "Sentiment(polarity=0.17045454545454544, subjectivity=0.5)\n",
      "\n",
      "How is Cramer Charitable Trust doing ?\n",
      "\n",
      "$nvda $aapl $fb $msft $nflx\n",
      "Sentiment(polarity=0.6, subjectivity=0.8)\n",
      "\n",
      "RT @financialbuzz: Watch Us Report LIVE from the Floor of the NYSE! This weeks weekly wrap-up includes $NVDA $AAPL $TSN $HD $GE $TLRY $CRON…\n",
      "Sentiment(polarity=0.17045454545454544, subjectivity=0.5)\n",
      "\n"
     ]
    }
   ],
   "source": [
    "#imprimir tweets y su análiss de sentimiento dependiendo de la palabra, hashtag, stocktag... que tú desees.\n",
    "\n",
    "public_tweets = api.search('$AAPL')     #Elige el tema a imprimir\n",
    "\n",
    "for tweet in public_tweets:\n",
    "    print(tweet.text)          #Imprime los tweets\n",
    "    analysis = TextBlob(tweet.text) \n",
    "    print(analysis.sentiment) #imprime el analisis de sentimiento\n",
    "    print(\"\")\n",
    "    \n"
   ]
  },
  {
   "cell_type": "code",
   "execution_count": null,
   "metadata": {
    "collapsed": true
   },
   "outputs": [],
   "source": [
    "#simbolos de stocks\n",
    "\n",
    "\n",
    "symbols_pfa = ['A',    'ADI',  'ALB',  'AMD',  'AMT',  'AMZN', 'AOS',  'APD',  'APH',  'AVGO', #1\n",
    "\t       'AVY',  'BA',   'BABA', 'BHGE', 'BWA',  'CAT',  'CME',  'CMI',  'CVX',  'DRI',  #2 \n",
    "               'EMN',  'FMC',  'GLW',  'HPE',  'HPQ',  'INTC', 'LEG',  'LLY',  'LMT',  'LRCX', #3\n",
    "               'LYB',  'MCD',  'MDB',  'MDT',  'MCHP', 'MRK',  'MTD',  'MU',   'NKE',  'NFLX', #4\n",
    "               'ORCL', 'PEP',  'PFE',  'PKI',  'QCOM', 'QRVO', 'SPLK', 'SQ',   'TMO',  'TSLA', #5\n",
    "               'TDG',  'TIF',  'TPR',  'V',    'WAT',  'WDAY', 'WDC',  'WU']   \t               #6    \n",
    "informationTechnology = ['FB', 'NVDA', 'SWKS', 'ANSS', 'TXN', 'ADBE', 'INTU', 'GOOGL', 'MA', 'CTSH',\n",
    "                         'EA', 'ACN',  'CDNS', 'AMAT', 'XLNX']\n",
    "healthCare = ['ISRG', 'ALGN', 'VRTX', 'INCY', 'ILMN', 'CERN', 'REGN', 'EW']\n",
    "consumerDiscretionary = ['CMG', 'ULTA', 'ROST', 'TSCO', 'GRMN', 'KORS', 'HD', 'SBUX']\n",
    "consumerStaples = ['MNST', 'HRL', 'CL', 'COST', 'SYY', 'HSY']\n",
    "industrials = ['FAST', 'EXPD', 'RHI', 'CHRW', 'JBHT', 'MMM']\n",
    "energy = ['VLO', 'PXD', 'COG', 'XEC']\n",
    "materials = [ 'IFF']\n",
    "telecommunicationsServices = ['VZ']\n",
    "jamesCramer = ['AAPL', 'ABT', 'AMGN', 'APC',   'BP',   'C',    'CMCSA', 'CRM', 'DHR', 'DIS', \n",
    "               'DWDP', 'EMR', 'FB',   'GOOGL', 'GS',   'HON',  'ITW',   'JNJ', 'JPM', 'JWN',  \n",
    "               'KSS',  'MMM', 'MSFT', 'NUE',   'NVDA', 'PYPL', 'RTN',   'SLB', 'TXT', 'UNH',\n",
    "               'WRK',  'XEC']\n",
    "cryptos = ['ADAUSDT', 'BCCUSDT', 'BNBUSDT',  'BTCUSDT',  'EOSUSDT', \n",
    "           'ETCUSDT', 'ETHUSDT', 'ICXUSDT',  'IOTAUSDT', 'LTCUSDT',\n",
    "           'NEOUSDT', 'ONTUSDT', 'QTUMUSDT', 'TRXUSDT',  'TUSDUSDT', \n",
    "           'VENUSDT', 'XLMUSDT', 'XRPUSDT']\n",
    "etfs = ['ACWI', 'AGG', 'BKF', 'DBO', 'DIA', 'EPP', 'EEM', 'EWA', 'EWC', 'EWG', 'EWH',   #1\n",
    "        'EWJ',  'EWT', 'EWU', 'EWQ', 'EWY', 'EWZ', 'EZU', 'FXI', 'IAU', 'IEO', 'IGV',   #2  \n",
    "        'ILF',  'ITB', 'IYC', 'IYE', 'IYF', 'IYK', 'IYR', 'IYW', 'IWM', 'IYH', 'IYJ',   #3 \n",
    "        'KBE', 'SLV', 'SHY', 'SPY', 'QQQ',  'XLF',]"
   ]
  },
  {
   "cell_type": "code",
   "execution_count": 26,
   "metadata": {},
   "outputs": [
    {
     "data": {
      "image/png": "[encoded data removed]",
      "text/plain": [
       "<matplotlib.figure.Figure at 0xa7f3eb8>"
      ]
     },
     "metadata": {},
     "output_type": "display_data"
    }
   ],
   "source": [
    "#gráfica del análisis de sentimiento de los ultmos 100 tweets de trump, al parecer tiende a ser positivo el amigo\n",
    "sns.boxplot(x=\"sentiment\", data=df)\n",
    "plt.show()"
   ]
  },
  {
   "cell_type": "code",
   "execution_count": null,
   "metadata": {
    "collapsed": true
   },
   "outputs": [],
   "source": []
  }
 ],
 "metadata": {
  "anaconda-cloud": {},
  "kernelspec": {
   "display_name": "Python [Anaconda3]",
   "language": "python",
   "name": "Python [Anaconda3]"
  },
  "language_info": {
   "codemirror_mode": {
    "name": "ipython",
    "version": 3
   },
   "file_extension": ".py",
   "mimetype": "text/x-python",
   "name": "python",
   "nbconvert_exporter": "python",
   "pygments_lexer": "ipython3",
   "version": "3.5.4"
  }
 },
 "nbformat": 4,
 "nbformat_minor": 2
}
